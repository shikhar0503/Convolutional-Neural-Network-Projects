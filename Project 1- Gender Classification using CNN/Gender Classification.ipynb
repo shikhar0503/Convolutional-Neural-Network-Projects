{
 "cells": [
  {
   "cell_type": "markdown",
   "id": "e5fa8124",
   "metadata": {},
   "source": [
    "# Gender Classification Using ConvNets"
   ]
  },
  {
   "cell_type": "markdown",
   "id": "4cfef470",
   "metadata": {},
   "source": [
    "BINARY CLASSIFIER"
   ]
  },
  {
   "cell_type": "markdown",
   "id": "8b26cbcc",
   "metadata": {},
   "source": [
    "### IMPORTING THE LIBRARIES"
   ]
  },
  {
   "cell_type": "code",
   "execution_count": 68,
   "id": "20d9a365",
   "metadata": {},
   "outputs": [],
   "source": [
    "import tensorflow as tf\n",
    "from keras.preprocessing.image import ImageDataGenerator\n",
    "tf.__version__\n",
    "import numpy as np  # Data manipulation\n",
    "import pandas as pd # Dataframe manipulation \n",
    "import matplotlib.pyplot as plt # Plotting the data and the results\n",
    "import matplotlib.image as mpimg # For displaying imagees\n",
    "import keras\n",
    "from keras import models\n",
    "from keras import layers\n",
    "from keras.models import Sequential\n",
    "from keras.layers import Dense, Dropout, Activation, Flatten\n",
    "from keras.layers import Conv2D, MaxPooling2D\n",
    "import keras.preprocessing  as kp\n",
    "from keras.preprocessing.image import ImageDataGenerator\n",
    "from keras import regularizers\n",
    "from keras import optimizers"
   ]
  },
  {
   "cell_type": "markdown",
   "id": "704c8646",
   "metadata": {},
   "source": [
    "### DATA PRE-PROCESSING"
   ]
  },
  {
   "cell_type": "markdown",
   "id": "f3d25e28",
   "metadata": {},
   "source": [
    "#### PREPROCESSING THE TRAINING SET"
   ]
  },
  {
   "cell_type": "code",
   "execution_count": 69,
   "id": "9254fffe",
   "metadata": {},
   "outputs": [],
   "source": [
    "train_datagen = ImageDataGenerator(rescale=1./255,\n",
    "                                    rotation_range=30,\n",
    "                                    shear_range=0.3,\n",
    "                                    zoom_range=0.3)"
   ]
  },
  {
   "cell_type": "code",
   "execution_count": 70,
   "id": "b2f1c77b",
   "metadata": {},
   "outputs": [
    {
     "name": "stdout",
     "output_type": "stream",
     "text": [
      "Found 43511 images belonging to 2 classes.\n"
     ]
    }
   ],
   "source": [
    "# PREPROCESSING THE TRAINING SET\n",
    "training_set = train_datagen.flow_from_directory(r\"c:\\Users\\nehak\\Project 12- Gender Classification using ConvNets\\Training\",\n",
    "                                                 target_size = (135, 135),\n",
    "                                                 batch_size = 48,\n",
    "                                                 class_mode = 'binary')"
   ]
  },
  {
   "cell_type": "code",
   "execution_count": 103,
   "id": "d55ea210",
   "metadata": {},
   "outputs": [
    {
     "name": "stdout",
     "output_type": "stream",
     "text": [
      "Found 11649 images belonging to 2 classes.\n"
     ]
    }
   ],
   "source": [
    "# PREPROCESSING THE TEST SET\n",
    "test_datagen = ImageDataGenerator(rescale = 1./255)\n",
    "test_set = test_datagen.flow_from_directory(r\"c:\\Users\\nehak\\Project 12- Gender Classification using ConvNets\\Validation\",\n",
    "                                            target_size = (135, 135),\n",
    "                                            batch_size = 48,\n",
    "                                            class_mode = 'binary')\n"
   ]
  },
  {
   "cell_type": "markdown",
   "id": "8fba3a2d",
   "metadata": {},
   "source": [
    "### BUILDING THE CNN MODEL"
   ]
  },
  {
   "cell_type": "code",
   "execution_count": 72,
   "id": "a061488e",
   "metadata": {},
   "outputs": [],
   "source": [
    "kernel_size=(3,3)"
   ]
  },
  {
   "cell_type": "code",
   "execution_count": 73,
   "id": "75f8657c",
   "metadata": {},
   "outputs": [],
   "source": [
    "model = Sequential()\n",
    "model.add(Conv2D(32, (3, 3), input_shape=(135,135,3),kernel_regularizer=regularizers.l2(0.001),padding=\"same\"))\n",
    "model.add(Activation('relu'))\n",
    "model.add(MaxPooling2D(pool_size=(2, 2),strides=2))\n",
    "\n",
    "model.add(Conv2D(64, (3, 3),input_shape=(134,131,3),padding=\"same\"))\n",
    "model.add(Activation('relu'))\n",
    "model.add(MaxPooling2D(pool_size=(2, 2),strides=2))\n",
    "\n",
    "model.add(Conv2D(128, (3, 3),input_shape=(134,131,3),padding=\"same\"))\n",
    "model.add(Activation('relu'))\n",
    "model.add(MaxPooling2D(pool_size=(2, 2),strides=2))\n",
    "\n",
    "model.add(Conv2D(256, (3, 3),input_shape=(134,131,3),padding=\"same\"))\n",
    "model.add(Activation('relu'))\n",
    "model.add(MaxPooling2D(pool_size=(2, 2),strides=2))\n",
    "\n",
    "model.add(Conv2D(512, (3, 3),input_shape=(134,131,3),padding=\"same\"))\n",
    "model.add(Activation('relu'))\n",
    "model.add(MaxPooling2D(pool_size=(2, 2),strides=2))\n",
    "\n",
    "model.add(Flatten())"
   ]
  },
  {
   "cell_type": "code",
   "execution_count": 74,
   "id": "2f9a2360",
   "metadata": {},
   "outputs": [],
   "source": [
    "# DENSE LAYERS\n",
    "model.add(Dense(128,activation='relu'))"
   ]
  },
  {
   "cell_type": "code",
   "execution_count": 75,
   "id": "a79027d4",
   "metadata": {},
   "outputs": [],
   "source": [
    "# DROPOUT LAYER\n",
    "model.add(Dropout(0.2))\n",
    "model.add(Dense(50,activation='relu'))\n",
    "model.add(Dropout(0.2))"
   ]
  },
  {
   "cell_type": "code",
   "execution_count": 76,
   "id": "bd931d4e",
   "metadata": {},
   "outputs": [
    {
     "name": "stdout",
     "output_type": "stream",
     "text": [
      "Model: \"sequential_20\"\n",
      "_________________________________________________________________\n",
      " Layer (type)                Output Shape              Param #   \n",
      "=================================================================\n",
      " conv2d_71 (Conv2D)          (None, 135, 135, 32)      896       \n",
      "                                                                 \n",
      " activation_39 (Activation)  (None, 135, 135, 32)      0         \n",
      "                                                                 \n",
      " max_pooling2d_60 (MaxPoolin  (None, 67, 67, 32)       0         \n",
      " g2D)                                                            \n",
      "                                                                 \n",
      " conv2d_72 (Conv2D)          (None, 67, 67, 64)        18496     \n",
      "                                                                 \n",
      " activation_40 (Activation)  (None, 67, 67, 64)        0         \n",
      "                                                                 \n",
      " max_pooling2d_61 (MaxPoolin  (None, 33, 33, 64)       0         \n",
      " g2D)                                                            \n",
      "                                                                 \n",
      " conv2d_73 (Conv2D)          (None, 33, 33, 128)       73856     \n",
      "                                                                 \n",
      " activation_41 (Activation)  (None, 33, 33, 128)       0         \n",
      "                                                                 \n",
      " max_pooling2d_62 (MaxPoolin  (None, 16, 16, 128)      0         \n",
      " g2D)                                                            \n",
      "                                                                 \n",
      " conv2d_74 (Conv2D)          (None, 16, 16, 256)       295168    \n",
      "                                                                 \n",
      " activation_42 (Activation)  (None, 16, 16, 256)       0         \n",
      "                                                                 \n",
      " max_pooling2d_63 (MaxPoolin  (None, 8, 8, 256)        0         \n",
      " g2D)                                                            \n",
      "                                                                 \n",
      " conv2d_75 (Conv2D)          (None, 8, 8, 512)         1180160   \n",
      "                                                                 \n",
      " activation_43 (Activation)  (None, 8, 8, 512)         0         \n",
      "                                                                 \n",
      " max_pooling2d_64 (MaxPoolin  (None, 4, 4, 512)        0         \n",
      " g2D)                                                            \n",
      "                                                                 \n",
      " flatten_8 (Flatten)         (None, 8192)              0         \n",
      "                                                                 \n",
      " dense_5 (Dense)             (None, 128)               1048704   \n",
      "                                                                 \n",
      " dropout_4 (Dropout)         (None, 128)               0         \n",
      "                                                                 \n",
      " dense_6 (Dense)             (None, 50)                6450      \n",
      "                                                                 \n",
      " dropout_5 (Dropout)         (None, 50)                0         \n",
      "                                                                 \n",
      " dense_7 (Dense)             (None, 1)                 51        \n",
      "                                                                 \n",
      "=================================================================\n",
      "Total params: 2,623,781\n",
      "Trainable params: 2,623,781\n",
      "Non-trainable params: 0\n",
      "_________________________________________________________________\n"
     ]
    }
   ],
   "source": [
    "# OUTPUT LAYER\n",
    "model.add(Dense(1,activation='sigmoid'))\n",
    "\n",
    "model.summary()"
   ]
  },
  {
   "cell_type": "code",
   "execution_count": 77,
   "id": "adabacd9",
   "metadata": {
    "scrolled": true
   },
   "outputs": [
    {
     "name": "stdout",
     "output_type": "stream",
     "text": [
      "Epoch 1/30\n",
      "70/70 [==============================] - 141s 2s/step - loss: 0.7092 - acc: 0.5527 - val_loss: 0.6899 - val_acc: 0.5554\n",
      "Epoch 2/30\n",
      "70/70 [==============================] - 133s 2s/step - loss: 0.6858 - acc: 0.5533 - val_loss: 0.6374 - val_acc: 0.6467\n",
      "Epoch 3/30\n",
      "70/70 [==============================] - 131s 2s/step - loss: 0.6215 - acc: 0.6896 - val_loss: 0.4927 - val_acc: 0.7746\n",
      "Epoch 4/30\n",
      "70/70 [==============================] - 125s 2s/step - loss: 0.5489 - acc: 0.7336 - val_loss: 0.4881 - val_acc: 0.7771\n",
      "Epoch 5/30\n",
      "70/70 [==============================] - 124s 2s/step - loss: 0.4647 - acc: 0.8000 - val_loss: 0.3466 - val_acc: 0.8558\n",
      "Epoch 6/30\n",
      "70/70 [==============================] - 124s 2s/step - loss: 0.4196 - acc: 0.8158 - val_loss: 0.2849 - val_acc: 0.8938\n",
      "Epoch 7/30\n",
      "70/70 [==============================] - 124s 2s/step - loss: 0.3799 - acc: 0.8426 - val_loss: 0.2543 - val_acc: 0.9033\n",
      "Epoch 8/30\n",
      "70/70 [==============================] - 124s 2s/step - loss: 0.3294 - acc: 0.8670 - val_loss: 0.2434 - val_acc: 0.9071\n",
      "Epoch 9/30\n",
      "70/70 [==============================] - 125s 2s/step - loss: 0.2957 - acc: 0.8857 - val_loss: 0.3508 - val_acc: 0.8517\n",
      "Epoch 10/30\n",
      "70/70 [==============================] - 124s 2s/step - loss: 0.2913 - acc: 0.8929 - val_loss: 0.1759 - val_acc: 0.9367\n",
      "Epoch 11/30\n",
      "70/70 [==============================] - 124s 2s/step - loss: 0.2772 - acc: 0.8967 - val_loss: 0.2094 - val_acc: 0.9254\n",
      "Epoch 12/30\n",
      "70/70 [==============================] - 125s 2s/step - loss: 0.2634 - acc: 0.8979 - val_loss: 0.3127 - val_acc: 0.8983\n",
      "Epoch 13/30\n",
      "70/70 [==============================] - 124s 2s/step - loss: 0.2340 - acc: 0.9149 - val_loss: 0.2580 - val_acc: 0.8958\n",
      "Epoch 14/30\n",
      "70/70 [==============================] - 125s 2s/step - loss: 0.2214 - acc: 0.9190 - val_loss: 0.1810 - val_acc: 0.9342\n",
      "Epoch 15/30\n",
      "70/70 [==============================] - 125s 2s/step - loss: 0.2369 - acc: 0.9131 - val_loss: 0.1512 - val_acc: 0.9450\n",
      "Epoch 16/30\n",
      "70/70 [==============================] - 125s 2s/step - loss: 0.2276 - acc: 0.9205 - val_loss: 0.1842 - val_acc: 0.9296\n",
      "Epoch 17/30\n",
      "70/70 [==============================] - 121s 2s/step - loss: 0.2103 - acc: 0.9277 - val_loss: 0.1582 - val_acc: 0.9463\n",
      "Epoch 18/30\n",
      "70/70 [==============================] - 108s 2s/step - loss: 0.2165 - acc: 0.9193 - val_loss: 0.1759 - val_acc: 0.9408\n",
      "Epoch 19/30\n",
      "70/70 [==============================] - 105s 1s/step - loss: 0.2089 - acc: 0.9286 - val_loss: 0.1395 - val_acc: 0.9538\n",
      "Epoch 20/30\n",
      "70/70 [==============================] - 106s 2s/step - loss: 0.1878 - acc: 0.9301 - val_loss: 0.1404 - val_acc: 0.9471\n",
      "Epoch 21/30\n",
      "70/70 [==============================] - 105s 2s/step - loss: 0.1904 - acc: 0.9330 - val_loss: 0.1553 - val_acc: 0.9442\n",
      "Epoch 22/30\n",
      "70/70 [==============================] - 104s 1s/step - loss: 0.1902 - acc: 0.9333 - val_loss: 0.1539 - val_acc: 0.9525\n",
      "Epoch 23/30\n",
      "70/70 [==============================] - 104s 1s/step - loss: 0.1984 - acc: 0.9268 - val_loss: 0.1441 - val_acc: 0.9492\n",
      "Epoch 24/30\n",
      "70/70 [==============================] - 105s 1s/step - loss: 0.1937 - acc: 0.9321 - val_loss: 0.1294 - val_acc: 0.9575\n",
      "Epoch 25/30\n",
      "70/70 [==============================] - 106s 2s/step - loss: 0.1880 - acc: 0.9354 - val_loss: 0.1187 - val_acc: 0.9633\n",
      "Epoch 26/30\n",
      "70/70 [==============================] - 108s 2s/step - loss: 0.1859 - acc: 0.9333 - val_loss: 0.1401 - val_acc: 0.9463\n",
      "Epoch 27/30\n",
      "70/70 [==============================] - 105s 1s/step - loss: 0.1832 - acc: 0.9345 - val_loss: 0.1170 - val_acc: 0.9546\n",
      "Epoch 28/30\n",
      "70/70 [==============================] - 104s 1s/step - loss: 0.1786 - acc: 0.9423 - val_loss: 0.1386 - val_acc: 0.9504\n",
      "Epoch 29/30\n",
      "70/70 [==============================] - 105s 1s/step - loss: 0.1689 - acc: 0.9369 - val_loss: 0.1539 - val_acc: 0.9471\n",
      "Epoch 30/30\n",
      "70/70 [==============================] - 105s 1s/step - loss: 0.1842 - acc: 0.9366 - val_loss: 0.1456 - val_acc: 0.9504\n"
     ]
    }
   ],
   "source": [
    "# TRAINING THE CNN MODEL\n",
    "model.compile(optimizer='rmsprop',loss='binary_crossentropy',metrics=['acc'])\n",
    "history=model.fit(training_set,steps_per_epoch=70,epochs=30,\n",
    "                  validation_data=test_set,validation_steps=50)"
   ]
  },
  {
   "cell_type": "markdown",
   "id": "d191017f",
   "metadata": {},
   "source": [
    "### ACCURACY & LOSS PLOTS"
   ]
  },
  {
   "cell_type": "code",
   "execution_count": 78,
   "id": "8082a2ae",
   "metadata": {},
   "outputs": [
    {
     "name": "stdout",
     "output_type": "stream",
     "text": [
      "dict_keys(['loss', 'acc', 'val_loss', 'val_acc'])\n"
     ]
    }
   ],
   "source": [
    "tf.keras.callbacks.History()\n",
    "# list all data in history\n",
    "print(history.history.keys())\n",
    "\n",
    "acc = history.history['acc']\n",
    "val_acc = history.history['val_acc']\n",
    "\n",
    "loss = history.history['loss']\n",
    "val_loss = history.history['val_loss']"
   ]
  },
  {
   "cell_type": "code",
   "execution_count": 79,
   "id": "ba7aa2af",
   "metadata": {},
   "outputs": [],
   "source": [
    "epochs_range = range(30)"
   ]
  },
  {
   "cell_type": "code",
   "execution_count": 80,
   "id": "65bcfc8f",
   "metadata": {},
   "outputs": [
    {
     "data": {
      "image/png": "[encoded data removed]",
      "text/plain": [
       "<Figure size 576x576 with 1 Axes>"
      ]
     },
     "metadata": {
      "needs_background": "light"
     },
     "output_type": "display_data"
    },
    {
     "data": {
      "text/plain": [
       "<Figure size 432x288 with 0 Axes>"
      ]
     },
     "metadata": {},
     "output_type": "display_data"
    }
   ],
   "source": [
    "plt.figure(figsize=(8, 8))\n",
    "plt.plot(epochs_range, acc, label='Training Accuracy')\n",
    "plt.plot(epochs_range, val_acc, label='Validation Accuracy')\n",
    "plt.legend(loc='lower right')\n",
    "plt.title('Training and Validation Accuracy')\n",
    "plt.show()\n",
    "plt.savefig(\"Gender-Accuracy.png\")"
   ]
  },
  {
   "cell_type": "code",
   "execution_count": 81,
   "id": "bba5ff4c",
   "metadata": {},
   "outputs": [
    {
     "data": {
      "image/png": "[encoded data removed]",
      "text/plain": [
       "<Figure size 576x576 with 1 Axes>"
      ]
     },
     "metadata": {
      "needs_background": "light"
     },
     "output_type": "display_data"
    },
    {
     "data": {
      "text/plain": [
       "<Figure size 432x288 with 0 Axes>"
      ]
     },
     "metadata": {},
     "output_type": "display_data"
    }
   ],
   "source": [
    "plt.figure(figsize=(8, 8))\n",
    "plt.plot(epochs_range, loss, label='Training Loss')\n",
    "plt.plot(epochs_range, val_loss, label='Validation Loss')\n",
    "plt.legend(loc='upper right')\n",
    "plt.title('Training and Validation Loss')\n",
    "plt.show()\n",
    "plt.savefig(\"Gender-Loss.png\")"
   ]
  },
  {
   "cell_type": "code",
   "execution_count": 115,
   "id": "21920dc8",
   "metadata": {},
   "outputs": [],
   "source": [
    "actual=[]\n",
    "for i in test_set[0][1]:\n",
    "  actual.append(np.argmax(i))"
   ]
  },
  {
   "cell_type": "code",
   "execution_count": 116,
   "id": "d6d45509",
   "metadata": {},
   "outputs": [],
   "source": [
    "predicted = model.predict(test_set[0][0])"
   ]
  },
  {
   "cell_type": "code",
   "execution_count": 117,
   "id": "e1df7d0e",
   "metadata": {},
   "outputs": [],
   "source": [
    "predict=[]\n",
    "for i in predicted:\n",
    "  predict.append(np.argmax(i))"
   ]
  },
  {
   "cell_type": "code",
   "execution_count": 118,
   "id": "d26f5e8f",
   "metadata": {},
   "outputs": [
    {
     "name": "stdout",
     "output_type": "stream",
     "text": [
      "CNN Model's Accuracy 1.0\n"
     ]
    }
   ],
   "source": [
    "from sklearn.metrics import accuracy_score\n",
    "print( \"CNN Model's Accuracy\", accuracy_score(actual, predict))"
   ]
  },
  {
   "cell_type": "code",
   "execution_count": 119,
   "id": "25064e32",
   "metadata": {},
   "outputs": [
    {
     "name": "stdout",
     "output_type": "stream",
     "text": [
      "{'female': 0, 'male': 1}\n",
      "[[0.]]\n"
     ]
    }
   ],
   "source": [
    "# TESTING THE MODEL ON CUSTOM IMAGES\n",
    "\n",
    "from keras.preprocessing import image\n",
    "test_image = image.load_img(r\"c:\\Users\\nehak\\Project 12- Gender Classification using ConvNets\\Validation\\female\\112992.jpg.jpg\",\n",
    "                            target_size = (135, 135))\n",
    "test_image = image.img_to_array(test_image)\n",
    "test_image = np.expand_dims(test_image, axis = 0)\n",
    "result = model.predict(test_image)\n",
    "\n",
    "print(training_set.class_indices)\n",
    "print(result)"
   ]
  },
  {
   "cell_type": "code",
   "execution_count": 120,
   "id": "258ad08e",
   "metadata": {},
   "outputs": [
    {
     "name": "stdout",
     "output_type": "stream",
     "text": [
      "The prediction is a FEMALE\n"
     ]
    }
   ],
   "source": [
    "if result[0][0] == 1:\n",
    "    prediction = 'The prediction is a MALE'\n",
    "else:\n",
    "    prediction = 'The prediction is a FEMALE'\n",
    "print(prediction)"
   ]
  },
  {
   "cell_type": "code",
   "execution_count": 121,
   "id": "eb243f12",
   "metadata": {},
   "outputs": [],
   "source": [
    "model.save('Gender-Model.h5')"
   ]
  },
  {
   "cell_type": "code",
   "execution_count": 122,
   "id": "7564743b",
   "metadata": {},
   "outputs": [
    {
     "name": "stdout",
     "output_type": "stream",
     "text": [
      "{'female': 0, 'male': 1}\n",
      "[[1.]]\n"
     ]
    }
   ],
   "source": [
    "from keras.preprocessing import image\n",
    "test_image = image.load_img(r\"c:\\Users\\nehak\\Project 12- Gender Classification using ConvNets\\Validation\\male\\063474.jpg.jpg\",\n",
    "                            target_size = (135, 135))\n",
    "test_image = image.img_to_array(test_image)\n",
    "test_image = np.expand_dims(test_image, axis = 0)\n",
    "result = model.predict(test_image)\n",
    "\n",
    "print(training_set.class_indices)\n",
    "print(result)"
   ]
  },
  {
   "cell_type": "code",
   "execution_count": 123,
   "id": "59eb48ce",
   "metadata": {},
   "outputs": [
    {
     "name": "stdout",
     "output_type": "stream",
     "text": [
      "The prediction is a MALE\n"
     ]
    }
   ],
   "source": [
    "if result[0][0] == 1:\n",
    "    prediction = 'The prediction is a MALE'\n",
    "else:\n",
    "    prediction = 'The prediction is a FEMALE'\n",
    "print(prediction)"
   ]
  },
  {
   "cell_type": "code",
   "execution_count": null,
   "id": "3d7d0752",
   "metadata": {},
   "outputs": [],
   "source": []
  }
 ],
 "metadata": {
  "kernelspec": {
   "display_name": "Python 3 (ipykernel)",
   "language": "python",
   "name": "python3"
  },
  "language_info": {
   "codemirror_mode": {
    "name": "ipython",
    "version": 3
   },
   "file_extension": ".py",
   "mimetype": "text/x-python",
   "name": "python",
   "nbconvert_exporter": "python",
   "pygments_lexer": "ipython3",
   "version": "3.9.12"
  }
 },
 "nbformat": 4,
 "nbformat_minor": 5
}
